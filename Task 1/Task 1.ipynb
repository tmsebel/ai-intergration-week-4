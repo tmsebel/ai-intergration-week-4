{
 "cells": [
  {
   "cell_type": "markdown",
   "metadata": {},
   "source": [
    "# Task 1 : AI-Powered Code Completion\n",
    "This notebook contains a Python function to sort a list of dictionaries by a specific key, a hypothetical AI-suggested implementation, and an efficiency analysis."
   ]
  },
  {
   "cell_type": "code",
   "execution_count": null,
   "metadata": {},
   "outputs": [],
   "source": [
    "def sort_dict_list(dict_list, key, reverse=False):\n",
    "    try:\n",
    "        return sorted(dict_list, key=lambda x: x[key], reverse=reverse)\n",
    "    except KeyError:\n",
    "        raise KeyError(f\"Key '{key}' not found in one or more dictionaries\")\n",
    "\n",
    "# Example using the built-in sorted function\n",
    "data = [\n",
    "    {\"name\": \"John\", \"age\": 30},\n",
    "    {\"name\": \"Alice\", \"age\": 25},\n",
    "    {\"name\": \"Bob\", \"age\": 35}\n",
    "]\n",
    "sorted_data = sort_dict_list(data, \"age\")\n",
    "print(\"Manual Implementation Output:\", sorted_data)"
   ]
  },
  {
   "cell_type": "markdown",
   "metadata": {},
   "source": [
    "## Hypothetical AI-Suggested Implementation\n",
    "Below is a hypothetical AI-generated version using a bubble sort approach, which is less efficient."
   ]
  },
  {
   "cell_type": "code",
   "execution_count": null,
   "metadata": {},
   "outputs": [],
   "source": [
    "def ai_sort_dict_list(dict_list, key):\n",
    "    result = dict_list.copy()\n",
    "    for i in range(len(result)):\n",
    "        for j in range(i + 1, len(result)):\n",
    "            if result[i][key] > result[j][key]:\n",
    "                result[i], result[j] = result[j], result[i]\n",
    "    return result\n",
    "\n",
    "# Example usage\n",
    "sorted_data_ai = ai_sort_dict_list(data, \"age\")\n",
    "print(\"AI Implementation Output:\", sorted_data_ai)"
   ]
  },
  {
   "cell_type": "markdown",
   "metadata": {},
   "source": [
    "## Efficiency Analysis\n",
    "The manual implementation uses Python’s `sorted()` function with a `lambda` to sort a list of dictionaries by a specified key. It leverages Timsort, Python’s optimized sorting algorithm, with a time complexity of O(n log n). It includes error handling for missing keys and supports ascending/descending order via the `reverse` parameter, making it robust and concise.\n",
    "\n",
    "The hypothetical AI-suggested version uses bubble sort, which has a time complexity of O(n²) due to nested loops comparing and swapping elements. It lacks error handling for missing keys and doesn’t support reverse sorting, reducing its flexibility. Additionally, it makes a copy of the input list, which is unnecessary for sorting in most cases, adding slight memory overhead.\n",
    "\n",
    "The manual implementation is more efficient for large datasets because Timsort is significantly faster than bubble sort, especially for partially sorted data. Timsort’s adaptive nature optimizes real-world use cases, while bubble sort performs poorly as list size grows. The manual version’s error handling and flexibility further enhance its practicality. For general-purpose sorting, the manual implementation is superior due to its performance, robustness, and simplicity.\n",
    "\n"
   ]
  }
 ],
 "metadata": {
  "kernelspec": {
   "display_name": "Python 3",
   "language": "python",
   "name": "python3"
  },
  "language_info": {
   "codemirror_mode": {
    "name": "ipython",
    "version": 3
   },
   "file_extension": ".py",
   "mimetype": "text/x-python",
   "name": "python",
   "nbconvert_exporter": "python",
   "pygments_lexer": "ipython3",
   "version": "3.8.10"
  }
 },
 "nbformat": 4,
 "nbformat_minor": 4
}
